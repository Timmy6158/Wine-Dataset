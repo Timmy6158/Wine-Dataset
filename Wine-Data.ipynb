{
 "cells": [
  {
   "cell_type": "markdown",
   "metadata": {
    "id": "mIVrWx-4kDvz"
   },
   "source": [
    "# **HW 1: Exploratory Data Analysis and Dimensionality Reduction in Wine Dataset**\n",
    "**HW Due date is 02/15/2024, 2:00 pm**\n",
    "\n",
    "In this assignment, you will analyze the Wine dataset, which contains the results of a chemical analysis of wines grown in a specific region in Italy, derived from three different cultivars (classes). The dataset consists of various chemical properties present in the wines, making it suitable for classification and clustering tasks.\n",
    "\n",
    "The goals of this assignment are to perform exploratory data analysis (EDA),handle missing data, standardize the data, and apply dimensionality reduction techniques to understand the underlying structure of the dataset."
   ]
  },
  {
   "cell_type": "markdown",
   "metadata": {
    "id": "kTwT_HEhjtOG"
   },
   "source": [
    "# The Wine Dataset:`\n",
    "The dataset consists of the following features:\n",
    "\n",
    "* Alcohol: The alcohol content of the wine.\n",
    "* Malic Acid: The malic acid content of the wine.\n",
    "* Ash: The ash content of the wine.\n",
    "* Alcalinity of Ash: The amount of ash that results after burning.\n",
    "* Magnesium: The magnesium content of the wine.\n",
    "* Total Phenols: The total phenolic content of the wine.\n",
    "* Flavanoids: The flavonoid content of the wine.\n",
    "* Nonflavanoid Phenols: The non-flavonoid phenolic content of the wine.\n",
    "* Proanthocyanins: The proanthocyanin content of the wine.\n",
    "* Color Intensity: The intensity of color in the wine.\n",
    "* Hue: The hue of the wine.\n",
    "* OD280/OD315 of Diluted Wines: The ratio of optical density measurements at 280nm and 315nm of the wine.\n",
    "* Proline: The proline content of the wine.\n",
    "\n",
    "Each row in the dataset represents a wine sample, and the target variable is the cultivar (class) of the wine. There are three classes in total, representing three different types of wines.\n",
    "\n"
   ]
  },
  {
   "cell_type": "markdown",
   "metadata": {
    "id": "BJ-A7g9jlOpD"
   },
   "source": [
    "# Data Loading and Preprocessing:\n",
    "* Load the Wine dataset into a DataFrame.\n",
    "* Standardize the data: Standardize the features by subtracting the mean and dividing by the standard deviation."
   ]
  },
  {
   "cell_type": "code",
   "execution_count": 46,
   "metadata": {
    "id": "aE0LKrhLnneZ"
   },
   "outputs": [],
   "source": [
    "# Import necessary libraries\n",
    "import numpy as np\n",
    "import pandas as pd\n",
    "import matplotlib.pyplot as plt\n",
    "import seaborn as sns\n",
    "from sklearn.datasets import load_wine\n",
    "from sklearn.preprocessing import StandardScaler\n",
    "from sklearn.decomposition import PCA\n",
    "from numpy.linalg import svd"
   ]
  },
  {
   "cell_type": "code",
   "execution_count": 47,
   "metadata": {
    "id": "5yQ9pWDcntAp"
   },
   "outputs": [],
   "source": [
    "# Load the Wine dataset\n",
    "wine_data = load_wine()\n",
    "X = wine_data.data\n",
    "y = wine_data.target\n",
    "feature_names = wine_data.feature_names"
   ]
  },
  {
   "cell_type": "markdown",
   "metadata": {
    "id": "gL_iroT0ny7x"
   },
   "source": [
    "**Coding excersice:** Convert the dataset to a DataFrame and display the first few rows of the dataset."
   ]
  },
  {
   "cell_type": "code",
   "execution_count": 48,
   "metadata": {
    "id": "PkzF5RY0oKR5",
    "scrolled": true
   },
   "outputs": [
    {
     "data": {
      "text/html": [
       "<div>\n",
       "<style scoped>\n",
       "    .dataframe tbody tr th:only-of-type {\n",
       "        vertical-align: middle;\n",
       "    }\n",
       "\n",
       "    .dataframe tbody tr th {\n",
       "        vertical-align: top;\n",
       "    }\n",
       "\n",
       "    .dataframe thead th {\n",
       "        text-align: right;\n",
       "    }\n",
       "</style>\n",
       "<table border=\"1\" class=\"dataframe\">\n",
       "  <thead>\n",
       "    <tr style=\"text-align: right;\">\n",
       "      <th></th>\n",
       "      <th>alcohol</th>\n",
       "      <th>malic_acid</th>\n",
       "      <th>ash</th>\n",
       "      <th>alcalinity_of_ash</th>\n",
       "      <th>magnesium</th>\n",
       "      <th>total_phenols</th>\n",
       "      <th>flavanoids</th>\n",
       "      <th>nonflavanoid_phenols</th>\n",
       "      <th>proanthocyanins</th>\n",
       "      <th>color_intensity</th>\n",
       "      <th>hue</th>\n",
       "      <th>od280/od315_of_diluted_wines</th>\n",
       "      <th>proline</th>\n",
       "    </tr>\n",
       "  </thead>\n",
       "  <tbody>\n",
       "    <tr>\n",
       "      <th>0</th>\n",
       "      <td>14.23</td>\n",
       "      <td>1.71</td>\n",
       "      <td>2.43</td>\n",
       "      <td>15.6</td>\n",
       "      <td>127.0</td>\n",
       "      <td>2.80</td>\n",
       "      <td>3.06</td>\n",
       "      <td>0.28</td>\n",
       "      <td>2.29</td>\n",
       "      <td>5.64</td>\n",
       "      <td>1.04</td>\n",
       "      <td>3.92</td>\n",
       "      <td>1065.0</td>\n",
       "    </tr>\n",
       "    <tr>\n",
       "      <th>1</th>\n",
       "      <td>13.20</td>\n",
       "      <td>1.78</td>\n",
       "      <td>2.14</td>\n",
       "      <td>11.2</td>\n",
       "      <td>100.0</td>\n",
       "      <td>2.65</td>\n",
       "      <td>2.76</td>\n",
       "      <td>0.26</td>\n",
       "      <td>1.28</td>\n",
       "      <td>4.38</td>\n",
       "      <td>1.05</td>\n",
       "      <td>3.40</td>\n",
       "      <td>1050.0</td>\n",
       "    </tr>\n",
       "    <tr>\n",
       "      <th>2</th>\n",
       "      <td>13.16</td>\n",
       "      <td>2.36</td>\n",
       "      <td>2.67</td>\n",
       "      <td>18.6</td>\n",
       "      <td>101.0</td>\n",
       "      <td>2.80</td>\n",
       "      <td>3.24</td>\n",
       "      <td>0.30</td>\n",
       "      <td>2.81</td>\n",
       "      <td>5.68</td>\n",
       "      <td>1.03</td>\n",
       "      <td>3.17</td>\n",
       "      <td>1185.0</td>\n",
       "    </tr>\n",
       "    <tr>\n",
       "      <th>3</th>\n",
       "      <td>14.37</td>\n",
       "      <td>1.95</td>\n",
       "      <td>2.50</td>\n",
       "      <td>16.8</td>\n",
       "      <td>113.0</td>\n",
       "      <td>3.85</td>\n",
       "      <td>3.49</td>\n",
       "      <td>0.24</td>\n",
       "      <td>2.18</td>\n",
       "      <td>7.80</td>\n",
       "      <td>0.86</td>\n",
       "      <td>3.45</td>\n",
       "      <td>1480.0</td>\n",
       "    </tr>\n",
       "    <tr>\n",
       "      <th>4</th>\n",
       "      <td>13.24</td>\n",
       "      <td>2.59</td>\n",
       "      <td>2.87</td>\n",
       "      <td>21.0</td>\n",
       "      <td>118.0</td>\n",
       "      <td>2.80</td>\n",
       "      <td>2.69</td>\n",
       "      <td>0.39</td>\n",
       "      <td>1.82</td>\n",
       "      <td>4.32</td>\n",
       "      <td>1.04</td>\n",
       "      <td>2.93</td>\n",
       "      <td>735.0</td>\n",
       "    </tr>\n",
       "  </tbody>\n",
       "</table>\n",
       "</div>"
      ],
      "text/plain": [
       "   alcohol  malic_acid   ash  alcalinity_of_ash  magnesium  total_phenols  \\\n",
       "0    14.23        1.71  2.43               15.6      127.0           2.80   \n",
       "1    13.20        1.78  2.14               11.2      100.0           2.65   \n",
       "2    13.16        2.36  2.67               18.6      101.0           2.80   \n",
       "3    14.37        1.95  2.50               16.8      113.0           3.85   \n",
       "4    13.24        2.59  2.87               21.0      118.0           2.80   \n",
       "\n",
       "   flavanoids  nonflavanoid_phenols  proanthocyanins  color_intensity   hue  \\\n",
       "0        3.06                  0.28             2.29             5.64  1.04   \n",
       "1        2.76                  0.26             1.28             4.38  1.05   \n",
       "2        3.24                  0.30             2.81             5.68  1.03   \n",
       "3        3.49                  0.24             2.18             7.80  0.86   \n",
       "4        2.69                  0.39             1.82             4.32  1.04   \n",
       "\n",
       "   od280/od315_of_diluted_wines  proline  \n",
       "0                          3.92   1065.0  \n",
       "1                          3.40   1050.0  \n",
       "2                          3.17   1185.0  \n",
       "3                          3.45   1480.0  \n",
       "4                          2.93    735.0  "
      ]
     },
     "execution_count": 48,
     "metadata": {},
     "output_type": "execute_result"
    }
   ],
   "source": [
    "# Convert the dataset to a DataFrame\n",
    "## Your code starts here\n",
    "df = pd.DataFrame(data=X, columns=feature_names)\n",
    "## Your code ends here\n",
    "\n",
    "# Display the first few rows of the dataset\n",
    "## Your code starts here\n",
    "df.head()\n",
    "## Your code ends here"
   ]
  },
  {
   "cell_type": "markdown",
   "metadata": {
    "id": "Ps79YLrBthJJ"
   },
   "source": [
    "# Data Quality Issues:\n",
    "We artificially impose the following data quality issues to the original dataset. Then use the mean, median and iterative methods to recover the missing values and calculate the mean square error!\n",
    "\n",
    "**Note:** You need to import IterativeImputer module from fancyimpute library. You might need to run \"pip install fancyimpute\"\n",
    "\n",
    "**Note:**\n",
    "'*SimpleImputer*' is a class provided by scikit-learn for handling missing values in datasets. It provides a simple strategy to impute missing values using the mean, median, most frequent, or constant value of the respective columns."
   ]
  },
  {
   "cell_type": "code",
   "execution_count": 49,
   "metadata": {
    "id": "DHnAFT6zjWJ-",
    "scrolled": true
   },
   "outputs": [
    {
     "name": "stdout",
     "output_type": "stream",
     "text": [
      "mean\n",
      "0.07330349318832438\n",
      "median\n",
      "0.07143031853647998\n",
      "iterative\n",
      "0.044733124545863145\n"
     ]
    }
   ],
   "source": [
    "from sklearn.impute import SimpleImputer\n",
    "from sklearn.metrics import mean_squared_error\n",
    "from math import sqrt\n",
    "from fancyimpute import IterativeImputer\n",
    "\n",
    "# make a copy of the original dataframe\n",
    "df_original = df.copy()\n",
    "\n",
    "# Introduce missing values in the dataset for demonstration purposes\n",
    "# Replace some values with NaN to simulate missing data\n",
    "df.iloc[10:15, 0] = np.nan\n",
    "df.iloc[20:25, 1] = np.nan\n",
    "df.iloc[30:35, 2] = np.nan\n",
    "\n",
    "# Handling missing values using different methods and calculating RMSE\n",
    "imputation_methods = ['mean', 'median', 'iterative']\n",
    "\n",
    "# Write a code to print out the rmse metric for each strategy\n",
    "## Your code starts here\n",
    "# Loops to each method and fill in the missing data with the methods\n",
    "# Note that method_imputer is the results of the dataframe after adding the missing values by the methods\n",
    "for method in imputation_methods:\n",
    "    if method == 'iterative':\n",
    "        imp_iter = IterativeImputer()\n",
    "        imp_iter.fit(df)\n",
    "        method_imputer = imp_iter.transform(df)\n",
    "        print(method)\n",
    "        print(sqrt(mean_squared_error(df_original, method_imputer)))\n",
    "    else:\n",
    "        imputer = SimpleImputer(strategy=method)\n",
    "        imputer.fit(df)\n",
    "        method_imputer = imputer.transform(df)\n",
    "        print(method)\n",
    "        print(sqrt(mean_squared_error(df_original, method_imputer)))\n",
    "## Your code ends here"
   ]
  },
  {
   "cell_type": "markdown",
   "metadata": {
    "id": "KmWokXjF0Wgz"
   },
   "source": [
    "**Question:** Which method works best? Why do you think is that?\n",
    "\n",
    "**You Answer:** The best method is iterative. \n",
    "---"
   ]
  },
  {
   "cell_type": "markdown",
   "metadata": {
    "id": "iwLky-sS11aq"
   },
   "source": [
    "# Data Visualization:\n",
    "**Coding excersice:** Use a box plot to visualize the features of the original data (i.e., dataframe without considering data quality issues)"
   ]
  },
  {
   "cell_type": "code",
   "execution_count": 50,
   "metadata": {
    "id": "NTvP-ol6olzO"
   },
   "outputs": [
    {
     "data": {
      "image/png": "[encoded data removed]",
      "text/plain": [
       "<Figure size 640x480 with 1 Axes>"
      ]
     },
     "metadata": {},
     "output_type": "display_data"
    }
   ],
   "source": [
    "# Exploratory Data Analysis\n",
    "# Visualize key statistics\n",
    "## Your code starts here\n",
    "plt.boxplot(df_original)\n",
    "plt.xticks([1,2,3,4,5,6,7,8,9,10,11,12,13], feature_names, rotation=90)\n",
    "plt.show()\n",
    "## Your code ends here"
   ]
  },
  {
   "cell_type": "markdown",
   "metadata": {
    "id": "fyekQPJSonLz"
   },
   "source": [
    "**Question:** What do you see? What is the problem?\n",
    "\n",
    "**You Answer:** Type your answer here!\n",
    "The x values are not labeled so it is difficult to understand what the graph is showing. The data in x plot 1-12 is hard to distinguish its values.\n",
    "---\n",
    "\n"
   ]
  },
  {
   "cell_type": "markdown",
   "metadata": {
    "id": "QrMVoTHYo4oK"
   },
   "source": [
    "# Data Standardization:\n",
    "**Coding excersice:** Standardize the original data (i.e., dataframe without considering data quality issues) and use the same boxplot to visualize the standardized data!"
   ]
  },
  {
   "cell_type": "code",
   "execution_count": 51,
   "metadata": {
    "id": "lKp-97gJpMEq"
   },
   "outputs": [
    {
     "data": {
      "image/png": "[encoded data removed]",
      "text/plain": [
       "<Figure size 640x480 with 1 Axes>"
      ]
     },
     "metadata": {},
     "output_type": "display_data"
    }
   ],
   "source": [
    "# Standardize the data\n",
    "## Your code starts here\n",
    "\n",
    "\n",
    "\"\"\" Put the standardized data back into dataframe\"\"\"\n",
    "scaler = StandardScaler()\n",
    "df_standardized = scaler.fit_transform(df_original)\n",
    "\n",
    "## Your code ends here\n",
    "\n",
    "# Exploratory Data Analysis\n",
    "# Visualize key statistics\n",
    "## Your code starts here\n",
    "\"\"\" Use boxplot to show visualize the standardized features \"\"\"\n",
    "plt.boxplot(df_standardized)\n",
    "plt.xticks([1,2,3,4,5,6,7,8,9,10,11,12,13], feature_names, rotation=90)\n",
    "plt.show()\n",
    "## Your code ends here"
   ]
  },
  {
   "cell_type": "markdown",
   "metadata": {
    "id": "tcDlEEHdpyTb"
   },
   "source": [
    "**Question:** Was the problem resolved?\n",
    "\n",
    "**You Answer:** I can now see the boxplots for all the x plots. It is easiers to read the minimum, first quartile, median, third quartile, and maximum.\n",
    "---\n",
    "\n"
   ]
  },
  {
   "cell_type": "markdown",
   "metadata": {
    "id": "qmbhORq3pRkA"
   },
   "source": [
    "**Coding excersice:** Calculate correlation matrix and visualize it?"
   ]
  },
  {
   "cell_type": "code",
   "execution_count": 52,
   "metadata": {
    "id": "weXSRK2Wpjyd"
   },
   "outputs": [
    {
     "data": {
      "text/html": [
       "<div>\n",
       "<style scoped>\n",
       "    .dataframe tbody tr th:only-of-type {\n",
       "        vertical-align: middle;\n",
       "    }\n",
       "\n",
       "    .dataframe tbody tr th {\n",
       "        vertical-align: top;\n",
       "    }\n",
       "\n",
       "    .dataframe thead th {\n",
       "        text-align: right;\n",
       "    }\n",
       "</style>\n",
       "<table border=\"1\" class=\"dataframe\">\n",
       "  <thead>\n",
       "    <tr style=\"text-align: right;\">\n",
       "      <th></th>\n",
       "      <th>0</th>\n",
       "      <th>1</th>\n",
       "      <th>2</th>\n",
       "      <th>3</th>\n",
       "      <th>4</th>\n",
       "      <th>5</th>\n",
       "      <th>6</th>\n",
       "      <th>7</th>\n",
       "      <th>8</th>\n",
       "      <th>9</th>\n",
       "      <th>10</th>\n",
       "      <th>11</th>\n",
       "      <th>12</th>\n",
       "    </tr>\n",
       "  </thead>\n",
       "  <tbody>\n",
       "    <tr>\n",
       "      <th>0</th>\n",
       "      <td>1.000000</td>\n",
       "      <td>0.094397</td>\n",
       "      <td>0.211545</td>\n",
       "      <td>-0.310235</td>\n",
       "      <td>0.270798</td>\n",
       "      <td>0.289101</td>\n",
       "      <td>0.236815</td>\n",
       "      <td>-0.155929</td>\n",
       "      <td>0.136698</td>\n",
       "      <td>0.546364</td>\n",
       "      <td>-0.071747</td>\n",
       "      <td>0.072343</td>\n",
       "      <td>0.643720</td>\n",
       "    </tr>\n",
       "    <tr>\n",
       "      <th>1</th>\n",
       "      <td>0.094397</td>\n",
       "      <td>1.000000</td>\n",
       "      <td>0.164045</td>\n",
       "      <td>0.288500</td>\n",
       "      <td>-0.054575</td>\n",
       "      <td>-0.335167</td>\n",
       "      <td>-0.411007</td>\n",
       "      <td>0.292977</td>\n",
       "      <td>-0.220746</td>\n",
       "      <td>0.248985</td>\n",
       "      <td>-0.561296</td>\n",
       "      <td>-0.368710</td>\n",
       "      <td>-0.192011</td>\n",
       "    </tr>\n",
       "    <tr>\n",
       "      <th>2</th>\n",
       "      <td>0.211545</td>\n",
       "      <td>0.164045</td>\n",
       "      <td>1.000000</td>\n",
       "      <td>0.443367</td>\n",
       "      <td>0.286587</td>\n",
       "      <td>0.128980</td>\n",
       "      <td>0.115077</td>\n",
       "      <td>0.186230</td>\n",
       "      <td>0.009652</td>\n",
       "      <td>0.258887</td>\n",
       "      <td>-0.074667</td>\n",
       "      <td>0.003911</td>\n",
       "      <td>0.223626</td>\n",
       "    </tr>\n",
       "    <tr>\n",
       "      <th>3</th>\n",
       "      <td>-0.310235</td>\n",
       "      <td>0.288500</td>\n",
       "      <td>0.443367</td>\n",
       "      <td>1.000000</td>\n",
       "      <td>-0.083333</td>\n",
       "      <td>-0.321113</td>\n",
       "      <td>-0.351370</td>\n",
       "      <td>0.361922</td>\n",
       "      <td>-0.197327</td>\n",
       "      <td>0.018732</td>\n",
       "      <td>-0.273955</td>\n",
       "      <td>-0.276769</td>\n",
       "      <td>-0.440597</td>\n",
       "    </tr>\n",
       "    <tr>\n",
       "      <th>4</th>\n",
       "      <td>0.270798</td>\n",
       "      <td>-0.054575</td>\n",
       "      <td>0.286587</td>\n",
       "      <td>-0.083333</td>\n",
       "      <td>1.000000</td>\n",
       "      <td>0.214401</td>\n",
       "      <td>0.195784</td>\n",
       "      <td>-0.256294</td>\n",
       "      <td>0.236441</td>\n",
       "      <td>0.199950</td>\n",
       "      <td>0.055398</td>\n",
       "      <td>0.066004</td>\n",
       "      <td>0.393351</td>\n",
       "    </tr>\n",
       "    <tr>\n",
       "      <th>5</th>\n",
       "      <td>0.289101</td>\n",
       "      <td>-0.335167</td>\n",
       "      <td>0.128980</td>\n",
       "      <td>-0.321113</td>\n",
       "      <td>0.214401</td>\n",
       "      <td>1.000000</td>\n",
       "      <td>0.864564</td>\n",
       "      <td>-0.449935</td>\n",
       "      <td>0.612413</td>\n",
       "      <td>-0.055136</td>\n",
       "      <td>0.433681</td>\n",
       "      <td>0.699949</td>\n",
       "      <td>0.498115</td>\n",
       "    </tr>\n",
       "    <tr>\n",
       "      <th>6</th>\n",
       "      <td>0.236815</td>\n",
       "      <td>-0.411007</td>\n",
       "      <td>0.115077</td>\n",
       "      <td>-0.351370</td>\n",
       "      <td>0.195784</td>\n",
       "      <td>0.864564</td>\n",
       "      <td>1.000000</td>\n",
       "      <td>-0.537900</td>\n",
       "      <td>0.652692</td>\n",
       "      <td>-0.172379</td>\n",
       "      <td>0.543479</td>\n",
       "      <td>0.787194</td>\n",
       "      <td>0.494193</td>\n",
       "    </tr>\n",
       "    <tr>\n",
       "      <th>7</th>\n",
       "      <td>-0.155929</td>\n",
       "      <td>0.292977</td>\n",
       "      <td>0.186230</td>\n",
       "      <td>0.361922</td>\n",
       "      <td>-0.256294</td>\n",
       "      <td>-0.449935</td>\n",
       "      <td>-0.537900</td>\n",
       "      <td>1.000000</td>\n",
       "      <td>-0.365845</td>\n",
       "      <td>0.139057</td>\n",
       "      <td>-0.262640</td>\n",
       "      <td>-0.503270</td>\n",
       "      <td>-0.311385</td>\n",
       "    </tr>\n",
       "    <tr>\n",
       "      <th>8</th>\n",
       "      <td>0.136698</td>\n",
       "      <td>-0.220746</td>\n",
       "      <td>0.009652</td>\n",
       "      <td>-0.197327</td>\n",
       "      <td>0.236441</td>\n",
       "      <td>0.612413</td>\n",
       "      <td>0.652692</td>\n",
       "      <td>-0.365845</td>\n",
       "      <td>1.000000</td>\n",
       "      <td>-0.025250</td>\n",
       "      <td>0.295544</td>\n",
       "      <td>0.519067</td>\n",
       "      <td>0.330417</td>\n",
       "    </tr>\n",
       "    <tr>\n",
       "      <th>9</th>\n",
       "      <td>0.546364</td>\n",
       "      <td>0.248985</td>\n",
       "      <td>0.258887</td>\n",
       "      <td>0.018732</td>\n",
       "      <td>0.199950</td>\n",
       "      <td>-0.055136</td>\n",
       "      <td>-0.172379</td>\n",
       "      <td>0.139057</td>\n",
       "      <td>-0.025250</td>\n",
       "      <td>1.000000</td>\n",
       "      <td>-0.521813</td>\n",
       "      <td>-0.428815</td>\n",
       "      <td>0.316100</td>\n",
       "    </tr>\n",
       "    <tr>\n",
       "      <th>10</th>\n",
       "      <td>-0.071747</td>\n",
       "      <td>-0.561296</td>\n",
       "      <td>-0.074667</td>\n",
       "      <td>-0.273955</td>\n",
       "      <td>0.055398</td>\n",
       "      <td>0.433681</td>\n",
       "      <td>0.543479</td>\n",
       "      <td>-0.262640</td>\n",
       "      <td>0.295544</td>\n",
       "      <td>-0.521813</td>\n",
       "      <td>1.000000</td>\n",
       "      <td>0.565468</td>\n",
       "      <td>0.236183</td>\n",
       "    </tr>\n",
       "    <tr>\n",
       "      <th>11</th>\n",
       "      <td>0.072343</td>\n",
       "      <td>-0.368710</td>\n",
       "      <td>0.003911</td>\n",
       "      <td>-0.276769</td>\n",
       "      <td>0.066004</td>\n",
       "      <td>0.699949</td>\n",
       "      <td>0.787194</td>\n",
       "      <td>-0.503270</td>\n",
       "      <td>0.519067</td>\n",
       "      <td>-0.428815</td>\n",
       "      <td>0.565468</td>\n",
       "      <td>1.000000</td>\n",
       "      <td>0.312761</td>\n",
       "    </tr>\n",
       "    <tr>\n",
       "      <th>12</th>\n",
       "      <td>0.643720</td>\n",
       "      <td>-0.192011</td>\n",
       "      <td>0.223626</td>\n",
       "      <td>-0.440597</td>\n",
       "      <td>0.393351</td>\n",
       "      <td>0.498115</td>\n",
       "      <td>0.494193</td>\n",
       "      <td>-0.311385</td>\n",
       "      <td>0.330417</td>\n",
       "      <td>0.316100</td>\n",
       "      <td>0.236183</td>\n",
       "      <td>0.312761</td>\n",
       "      <td>1.000000</td>\n",
       "    </tr>\n",
       "  </tbody>\n",
       "</table>\n",
       "</div>"
      ],
      "text/plain": [
       "          0         1         2         3         4         5         6   \\\n",
       "0   1.000000  0.094397  0.211545 -0.310235  0.270798  0.289101  0.236815   \n",
       "1   0.094397  1.000000  0.164045  0.288500 -0.054575 -0.335167 -0.411007   \n",
       "2   0.211545  0.164045  1.000000  0.443367  0.286587  0.128980  0.115077   \n",
       "3  -0.310235  0.288500  0.443367  1.000000 -0.083333 -0.321113 -0.351370   \n",
       "4   0.270798 -0.054575  0.286587 -0.083333  1.000000  0.214401  0.195784   \n",
       "5   0.289101 -0.335167  0.128980 -0.321113  0.214401  1.000000  0.864564   \n",
       "6   0.236815 -0.411007  0.115077 -0.351370  0.195784  0.864564  1.000000   \n",
       "7  -0.155929  0.292977  0.186230  0.361922 -0.256294 -0.449935 -0.537900   \n",
       "8   0.136698 -0.220746  0.009652 -0.197327  0.236441  0.612413  0.652692   \n",
       "9   0.546364  0.248985  0.258887  0.018732  0.199950 -0.055136 -0.172379   \n",
       "10 -0.071747 -0.561296 -0.074667 -0.273955  0.055398  0.433681  0.543479   \n",
       "11  0.072343 -0.368710  0.003911 -0.276769  0.066004  0.699949  0.787194   \n",
       "12  0.643720 -0.192011  0.223626 -0.440597  0.393351  0.498115  0.494193   \n",
       "\n",
       "          7         8         9         10        11        12  \n",
       "0  -0.155929  0.136698  0.546364 -0.071747  0.072343  0.643720  \n",
       "1   0.292977 -0.220746  0.248985 -0.561296 -0.368710 -0.192011  \n",
       "2   0.186230  0.009652  0.258887 -0.074667  0.003911  0.223626  \n",
       "3   0.361922 -0.197327  0.018732 -0.273955 -0.276769 -0.440597  \n",
       "4  -0.256294  0.236441  0.199950  0.055398  0.066004  0.393351  \n",
       "5  -0.449935  0.612413 -0.055136  0.433681  0.699949  0.498115  \n",
       "6  -0.537900  0.652692 -0.172379  0.543479  0.787194  0.494193  \n",
       "7   1.000000 -0.365845  0.139057 -0.262640 -0.503270 -0.311385  \n",
       "8  -0.365845  1.000000 -0.025250  0.295544  0.519067  0.330417  \n",
       "9   0.139057 -0.025250  1.000000 -0.521813 -0.428815  0.316100  \n",
       "10 -0.262640  0.295544 -0.521813  1.000000  0.565468  0.236183  \n",
       "11 -0.503270  0.519067 -0.428815  0.565468  1.000000  0.312761  \n",
       "12 -0.311385  0.330417  0.316100  0.236183  0.312761  1.000000  "
      ]
     },
     "execution_count": 52,
     "metadata": {},
     "output_type": "execute_result"
    }
   ],
   "source": [
    "# Calculate correlation matrix\n",
    "## Your code starts here\n",
    "correlation_m = pd.DataFrame(df_standardized).corr()\n",
    "\n",
    "# Visualize correlation matrix\n",
    "\n",
    "correlation_m\n",
    "## Your code ends here"
   ]
  },
  {
   "cell_type": "markdown",
   "metadata": {
    "id": "SPgNuY8Gpkl7"
   },
   "source": [
    "What is the intuition behind the correlation matrix?\n",
    "\n",
    "**Your answer:** The intuition behind the correlation matrix is how the variables are related to each other. This shows how much the variables are similar and different. This allows data analysts to \n",
    "\n",
    "---\n",
    "\n"
   ]
  },
  {
   "cell_type": "markdown",
   "metadata": {
    "id": "x5CjL1FMreuC"
   },
   "source": [
    "# Dimensionality Reduction with PCA\n",
    "**Coding excersice:** Apply Dimensionality Reduction using PCA. Find the number of principle components to retain using the \"explained_variance_ratio\". Use the threshold of **0.95** for the cumulative explained variance ratio in order to find the number of principle components.\n",
    "\n",
    "**Note:** When performing dimensionality reduction using PCA, one of the main considerations is to select the appropriate number of principal components to retain. The explained variance ratio tells us the proportion of variance explained by each principal component. By summing up the explained variance ratios cumulatively, we can see how much of the total variance in the data is explained as we include more principal components."
   ]
  },
  {
   "cell_type": "code",
   "execution_count": 53,
   "metadata": {
    "id": "JQDmCRT0re2j"
   },
   "outputs": [
    {
     "name": "stdout",
     "output_type": "stream",
     "text": [
      "List of retained principal components\n",
      "[0.36198848 0.1920749  0.11123631 0.0706903  0.06563294 0.04935823\n",
      " 0.04238679 0.02680749 0.02222153 0.01930019 0.01736836 0.01298233\n",
      " 0.00795215]\n",
      "\n"
     ]
    },
    {
     "data": {
      "image/png": "[encoded data removed]",
      "text/plain": [
       "<Figure size 640x480 with 1 Axes>"
      ]
     },
     "metadata": {},
     "output_type": "display_data"
    },
    {
     "name": "stdout",
     "output_type": "stream",
     "text": [
      "Cumulative sum of variance ratios\n",
      "[0.36198848 0.55406338 0.66529969 0.73598999 0.80162293 0.85098116\n",
      " 0.89336795 0.92017544 0.94239698 0.96169717 0.97906553 0.99204785\n",
      " 1.        ]\n",
      "Explained variance ratio of each principal component:\n",
      "[0.36198848 0.1920749  0.11123631 0.0706903  0.06563294 0.04935823\n",
      " 0.04238679 0.02680749 0.02222153]\n",
      "Summary:\n",
      "PCA captures 94.23969775056236% of the variance with 9 components.\n"
     ]
    }
   ],
   "source": [
    "# Dimensionality Reduction using PCA\n",
    "# Apply PCA\n",
    "## Your code starts here\n",
    "\n",
    "\"\"\"Initialize PCA with a default value which is the total number of components\"\"\"\n",
    "pca = PCA()\n",
    "std_pca = pca.fit_transform(df_standardized)\n",
    "## Your code ends here\n",
    "\n",
    "# Determine the number of principal components to retain\n",
    "## Your code starts here\n",
    "retain = pca.explained_variance_ratio_\n",
    "print(\"List of retained principal components\")\n",
    "print(retain)\n",
    "print()\n",
    "## Your code ends here\n",
    "\n",
    "# Plot explained variance ratio\n",
    "## Your code starts here \n",
    "\n",
    "\"\"\"Makes a list of numbers to label the x-axis\"\"\"\n",
    "x_label = []\n",
    "for i in range(retain.size):\n",
    "    x_label.append(i)\n",
    "\n",
    "plt.bar(feature_names, retain)\n",
    "plt.xticks(rotation=90)\n",
    "plt.show()\n",
    "## Your code ends here\n",
    "\n",
    "# Choose the number of components based on the explained variance ratio\n",
    "## Your code starts here\n",
    "\"\"\"This shows what number of components we need with the threshold of 0.95\"\"\"\n",
    "print(\"Cumulative sum of variance ratios\")\n",
    "Cum_sum_pca = pca.explained_variance_ratio_.cumsum()\n",
    "print(Cum_sum_pca)\n",
    "\n",
    "\"\"\"Variables to find the cumulative sum and the threshold size for 95%\"\"\"\n",
    "cumulative_sum = 0\n",
    "best_comp_size = 0\n",
    "\"\"\"Loops through the list of cumulative values and finds the sum before 95% and records the number of components needed to \n",
    "get that value\"\"\"\n",
    "for sum in Cum_sum_pca:\n",
    "    if sum < 0.95:\n",
    "        cumulative_sum = sum\n",
    "        best_comp_size += 1\n",
    "## Your code ends here\n",
    "\n",
    "# Perform PCA with the chosen number of components\n",
    "## Your code starts here\n",
    "\"\"\"Create another PCA instance with the best cumulative size\"\"\"\n",
    "new_pca = PCA(n_components=best_comp_size)\n",
    "std_pca = new_pca.fit_transform(df_standardized)\n",
    "## Your code ends here\n",
    "\n",
    "# Interpretation and Conclusion\n",
    "# Interpret principal components\n",
    "print(\"Explained variance ratio of each principal component:\")\n",
    "## Your code starts here\n",
    "\"\"\"Calculates the explained variance ratio again but with a certain number of components\"\"\"\n",
    "retain = new_pca.explained_variance_ratio_\n",
    "print(retain)\n",
    "## Your code ends here\n",
    "\n",
    "# Summarize key findings\n",
    "print(\"Summary:\")\n",
    "\"\"\" write your code inside the .format()!\"\"\"\n",
    "print(\"PCA captures {}% of the variance with {} components.\".format(cumulative_sum*100, best_comp_size))"
   ]
  },
  {
   "cell_type": "markdown",
   "metadata": {
    "id": "kPId3Wyinxcm"
   },
   "source": [
    "**Congratulations!** You completed this assignment.\n"
   ]
  },
  {
   "cell_type": "markdown",
   "metadata": {
    "id": "IaLFhZDy9Idu"
   },
   "source": [
    "# Submission Guidelines:\n",
    "\n",
    "* Implement the above steps in a Jupyter Notebook file.\n",
    "* Save your ipython code and name it as: lastname_firstname_HW1.ipynb (.ipynb extension)\n",
    "* Include comments and explanations to describe your approach and the rationale behind each step.\n",
    "* Submit on Canvas.\n",
    "\n"
   ]
  }
 ],
 "metadata": {
  "colab": {
   "provenance": []
  },
  "kernelspec": {
   "display_name": "Python 3 (ipykernel)",
   "language": "python",
   "name": "python3"
  },
  "language_info": {
   "codemirror_mode": {
    "name": "ipython",
    "version": 3
   },
   "file_extension": ".py",
   "mimetype": "text/x-python",
   "name": "python",
   "nbconvert_exporter": "python",
   "pygments_lexer": "ipython3",
   "version": "3.11.6"
  }
 },
 "nbformat": 4,
 "nbformat_minor": 4
}
